{
 "cells": [
  {
   "cell_type": "code",
   "execution_count": 1,
   "metadata": {},
   "outputs": [
    {
     "ename": "NameError",
     "evalue": "name 'X_train' is not defined",
     "output_type": "error",
     "traceback": [
      "\u001b[1;31m---------------------------------------------------------------------------\u001b[0m",
      "\u001b[1;31mNameError\u001b[0m                                 Traceback (most recent call last)",
      "\u001b[1;32mUntitled-1.ipynb Cell 1\u001b[0m line \u001b[0;36m9\n\u001b[0;32m      <a href='vscode-notebook-cell:Untitled-1.ipynb?jupyter-notebook#W0sdW50aXRsZWQ%3D?line=5'>6</a>\u001b[0m knn_model \u001b[39m=\u001b[39m NearestNeighbors(n_neighbors\u001b[39m=\u001b[39m\u001b[39m5\u001b[39m)\n\u001b[0;32m      <a href='vscode-notebook-cell:Untitled-1.ipynb?jupyter-notebook#W0sdW50aXRsZWQ%3D?line=7'>8</a>\u001b[0m \u001b[39m# Fit the model\u001b[39;00m\n\u001b[1;32m----> <a href='vscode-notebook-cell:Untitled-1.ipynb?jupyter-notebook#W0sdW50aXRsZWQ%3D?line=8'>9</a>\u001b[0m knn_model\u001b[39m.\u001b[39mfit(X_train)\n",
      "\u001b[1;31mNameError\u001b[0m: name 'X_train' is not defined"
     ]
    }
   ],
   "source": [
    "from sklearn.neighbors import NearestNeighbors\n",
    "\n",
    "# Assuming X_train contains the training data and y_train contains the corresponding labels\n",
    "\n",
    "# Create KNN model\n",
    "knn_model = NearestNeighbors(n_neighbors=5)\n",
    "\n",
    "# Fit the model\n",
    "knn_model.fit(X_train)"
   ]
  },
  {
   "cell_type": "code",
   "execution_count": null,
   "metadata": {},
   "outputs": [
    {
     "ename": "NameError",
     "evalue": "name 'max_features' is not defined",
     "output_type": "error",
     "traceback": [
      "\u001b[1;31m---------------------------------------------------------------------------\u001b[0m\n",
      "\u001b[1;31mNameError\u001b[0m                                 Traceback (most recent call last)\n",
      "\u001b[1;32me:\\ML\\detecting fake news\\detecting fake news.ipynb Cell 8\u001b[0m line \u001b[0;36m2\n",
      "\u001b[0;32m      <a href='vscode-notebook-cell:/e%3A/ML/detecting%20fake%20news/detecting%20fake%20news.ipynb#X10sZmlsZQ%3D%3D?line=0'>1</a>\u001b[0m \u001b[39m# Add an embedding layer to your model for each input\u001b[39;00m\n",
      "\u001b[1;32m----> <a href='vscode-notebook-cell:/e%3A/ML/detecting%20fake%20news/detecting%20fake%20news.ipynb#X10sZmlsZQ%3D%3D?line=1'>2</a>\u001b[0m embedding_layer \u001b[39m=\u001b[39m Embedding(max_features, \u001b[39m32\u001b[39m, input_length\u001b[39m=\u001b[39m\u001b[39m6\u001b[39m)\n",
      "\u001b[0;32m      <a href='vscode-notebook-cell:/e%3A/ML/detecting%20fake%20news/detecting%20fake%20news.ipynb#X10sZmlsZQ%3D%3D?line=2'>3</a>\u001b[0m model\u001b[39m.\u001b[39madd(embedding_layer)\n",
      "\u001b[0;32m      <a href='vscode-notebook-cell:/e%3A/ML/detecting%20fake%20news/detecting%20fake%20news.ipynb#X10sZmlsZQ%3D%3D?line=4'>5</a>\u001b[0m \u001b[39m# Use the Embedding layer instead of the input layer in the next layer\u001b[39;00m\n",
      "\u001b[0;32m      <a href='vscode-notebook-cell:/e%3A/ML/detecting%20fake%20news/detecting%20fake%20news.ipynb#X10sZmlsZQ%3D%3D?line=5'>6</a>\u001b[0m \u001b[39m# For example:\u001b[39;00m\n",
      "\u001b[0;32m      <a href='vscode-notebook-cell:/e%3A/ML/detecting%20fake%20news/detecting%20fake%20news.ipynb#X10sZmlsZQ%3D%3D?line=6'>7</a>\u001b[0m \u001b[39m# model.add(Conv1D(64, 3, activation='relu'))\u001b[39;00m\n",
      "\u001b[0;32m      <a href='vscode-notebook-cell:/e%3A/ML/detecting%20fake%20news/detecting%20fake%20news.ipynb#X10sZmlsZQ%3D%3D?line=7'>8</a>\u001b[0m \n",
      "\u001b[0;32m      <a href='vscode-notebook-cell:/e%3A/ML/detecting%20fake%20news/detecting%20fake%20news.ipynb#X10sZmlsZQ%3D%3D?line=8'>9</a>\u001b[0m \u001b[39m# Add another embedding layer for the tfidf input\u001b[39;00m\n",
      "\n",
      "\u001b[1;31mNameError\u001b[0m: name 'max_features' is not defined"
     ]
    }
   ],
   "source": [
    "# Assuming X_test contains the features of the test song\n",
    "\n",
    "# Find the K nearest neighbors\n",
    "distances, indices = knn_model.kneighbors([X_test])\n",
    "\n",
    "# Get the recommended songs\n",
    "recommended_songs = y_train[indices]"
   ]
  },
  {
   "cell_type": "code",
   "execution_count": null,
   "metadata": {},
   "outputs": [],
   "source": [
    "# Assuming X_train_ml contains ML features and X_train_dl contains DL features\n",
    "\n",
    "# Combine ML and DL features\n",
    "X_train_combined = np.concatenate((X_train_ml, X_train_dl), axis=1)\n",
    "\n",
    "# Retrain the model\n",
    "knn_model.fit(X_train_combined)"
   ]
  },
  {
   "cell_type": "code",
   "execution_count": null,
   "metadata": {},
   "outputs": [],
   "source": [
    "# Assuming X_test_combined contains the combined features of the test song\n",
    "\n",
    "# Find the K nearest neighbors\n",
    "distances, indices = knn_model.kneighbors([X_test_combined])\n",
    "\n",
    "# Get the recommended songs\n",
    "recommended_songs = y_train[indices]"
   ]
  }
 ],
 "metadata": {
  "kernelspec": {
   "display_name": "Python 3",
   "language": "python",
   "name": "python3"
  },
  "language_info": {
   "codemirror_mode": {
    "name": "ipython",
    "version": 3
   },
   "file_extension": ".py",
   "mimetype": "text/x-python",
   "name": "python",
   "nbconvert_exporter": "python",
   "pygments_lexer": "ipython3",
   "version": "3.10.11"
  }
 },
 "nbformat": 4,
 "nbformat_minor": 2
}
